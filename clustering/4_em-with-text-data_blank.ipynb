{
 "cells": [
  {
   "cell_type": "markdown",
   "metadata": {},
   "source": [
    "## Fitting a diagonal covariance Gaussian mixture model to text data\n",
    "\n",
    "In a previous assignment, we explored k-means clustering for a high-dimensional Wikipedia dataset. We can also model this data with a mixture of Gaussians, though with increasing dimension we run into two important issues associated with using a full covariance matrix for each component.\n",
    " * Computational cost becomes prohibitive in high dimensions: score calculations have complexity cubic in the number of dimensions M if the Gaussian has a full covariance matrix.\n",
    " * A model with many parameters require more data: observe that a full covariance matrix for an M-dimensional Gaussian will have M(M+1)/2 parameters to fit. With the number of parameters growing roughly as the square of the dimension, it may quickly become impossible to find a sufficient amount of data to make good inferences.\n",
    "\n",
    "Both of these issues are avoided if we require the covariance matrix of each component to be diagonal, as then it has only M parameters to fit and the score computation decomposes into M univariate score calculations. Recall from the lecture that the M-step for the full covariance is:\n",
    "\n",
    "\\begin{align*}\n",
    "\\hat{\\Sigma}_k &= \\frac{1}{N_k^{soft}} \\sum_{i=1}^N r_{ik} (x_i-\\hat{\\mu}_k)(x_i - \\hat{\\mu}_k)^T\n",
    "\\end{align*}\n",
    "\n",
    "Note that this is a square matrix with M rows and M columns, and the above equation implies that the (v, w) element is computed by\n",
    "\n",
    "\\begin{align*}\n",
    "\\hat{\\Sigma}_{k, v, w} &= \\frac{1}{N_k^{soft}} \\sum_{i=1}^N r_{ik} (x_{iv}-\\hat{\\mu}_{kv})(x_{iw} - \\hat{\\mu}_{kw})\n",
    "\\end{align*}\n",
    "\n",
    "When we assume that this is a diagonal matrix, then non-diagonal elements are assumed to be zero and we only need to compute each of the M elements along the diagonal independently using the following equation. \n",
    "\n",
    "\\begin{align*}\n",
    "\\hat{\\sigma}^2_{k, v} &= \\hat{\\Sigma}_{k, v, v}  \\\\\n",
    "&= \\frac{1}{N_k^{soft}} \\sum_{i=1}^N r_{ik} (x_{iv}-\\hat{\\mu}_{kv})^2\n",
    "\\end{align*}\n",
    "\n",
    "In this section, we will use an EM implementation to fit a Gaussian mixture model with **diagonal** covariances to a subset of the Wikipedia dataset. The implementation uses the above equation to compute each variance term. \n",
    "\n",
    "We'll begin by importing the dataset and coming up with a useful representation for each article. After running our algorithm on the data, we will explore the output to see whether we can give a meaningful interpretation to the fitted parameters in our model."
   ]
  },
  {
   "cell_type": "markdown",
   "metadata": {},
   "source": [
    "**Note to Amazon EC2 users**: To conserve memory, make sure to stop all the other notebooks before running this notebook."
   ]
  },
  {
   "cell_type": "markdown",
   "metadata": {},
   "source": [
    "## Import necessary packages"
   ]
  },
  {
   "cell_type": "markdown",
   "metadata": {},
   "source": [
    "The following code block will check if you have the correct version of GraphLab Create. Any version later than 1.8.5 will do. To upgrade, read [this page](https://turi.com/download/upgrade-graphlab-create.html)."
   ]
  },
  {
   "cell_type": "code",
   "execution_count": 3,
   "metadata": {
    "collapsed": false
   },
   "outputs": [],
   "source": [
    "import graphlab\n",
    "\n",
    "'''Check GraphLab Create version'''\n",
    "from distutils.version import StrictVersion\n",
    "assert (StrictVersion(graphlab.version) >= StrictVersion('1.8.5')), 'GraphLab Create must be version 1.8.5 or later.'"
   ]
  },
  {
   "cell_type": "markdown",
   "metadata": {},
   "source": [
    "We also have a Python file containing implementations for several functions that will be used during the course of this assignment."
   ]
  },
  {
   "cell_type": "code",
   "execution_count": 4,
   "metadata": {
    "collapsed": false
   },
   "outputs": [],
   "source": [
    "from em_utilities import *"
   ]
  },
  {
   "cell_type": "markdown",
   "metadata": {},
   "source": [
    "## Load Wikipedia data and extract TF-IDF features"
   ]
  },
  {
   "cell_type": "markdown",
   "metadata": {},
   "source": [
    "Load Wikipedia data and transform each of the first 5000 document into a TF-IDF representation."
   ]
  },
  {
   "cell_type": "code",
   "execution_count": 5,
   "metadata": {
    "collapsed": false
   },
   "outputs": [
    {
     "name": "stderr",
     "output_type": "stream",
     "text": [
      "[INFO] graphlab.cython.cy_server: GraphLab Create v2.1 started. Logging: /tmp/graphlab_server_1528781098.log\n"
     ]
    },
    {
     "name": "stdout",
     "output_type": "stream",
     "text": [
      "This non-commercial license of GraphLab Create for academic use is assigned to ritu11choudhary@gmail.com and will expire on May 16, 2019.\n"
     ]
    }
   ],
   "source": [
    "wiki = graphlab.SFrame('../data/people_wiki.gl/').head(5000)\n",
    "wiki['tf_idf'] = graphlab.text_analytics.tf_idf(wiki['text'])"
   ]
  },
  {
   "cell_type": "markdown",
   "metadata": {},
   "source": [
    "Using a utility we provide, we will create a sparse matrix representation of the documents. This is the same utility function you used during the previous assignment on k-means with text data."
   ]
  },
  {
   "cell_type": "code",
   "execution_count": 6,
   "metadata": {
    "collapsed": false
   },
   "outputs": [],
   "source": [
    "tf_idf, map_index_to_word = sframe_to_scipy(wiki, 'tf_idf')"
   ]
  },
  {
   "cell_type": "markdown",
   "metadata": {},
   "source": [
    "As in the previous assignment, we will normalize each document's TF-IDF vector to be a unit vector. "
   ]
  },
  {
   "cell_type": "code",
   "execution_count": 7,
   "metadata": {
    "collapsed": false
   },
   "outputs": [],
   "source": [
    "tf_idf = normalize(tf_idf)"
   ]
  },
  {
   "cell_type": "markdown",
   "metadata": {},
   "source": [
    "We can check that the length (Euclidean norm) of each row is now 1.0, as expected."
   ]
  },
  {
   "cell_type": "code",
   "execution_count": 8,
   "metadata": {
    "collapsed": false,
    "scrolled": true
   },
   "outputs": [
    {
     "name": "stdout",
     "output_type": "stream",
     "text": [
      "1.0\n",
      "1.0\n",
      "1.0\n",
      "1.0\n",
      "1.0\n"
     ]
    }
   ],
   "source": [
    "for i in range(5):\n",
    "    doc = tf_idf[i]\n",
    "    print(np.linalg.norm(doc.todense()))"
   ]
  },
  {
   "cell_type": "markdown",
   "metadata": {},
   "source": [
    "## EM in high dimensions\n",
    "\n",
    "EM for high-dimensional data requires some special treatment:\n",
    " * E step and M step must be vectorized as much as possible, as explicit loops are dreadfully slow in Python.\n",
    " * All operations must be cast in terms of sparse matrix operations, to take advantage of computational savings enabled by sparsity of data.\n",
    " * Initially, some words may be entirely absent from a cluster, causing the M step to produce zero mean and variance for those words.  This means any data point with one of those words will have 0 probability of being assigned to that cluster since the cluster allows for no variability (0 variance) around that count being 0 (0 mean). Since there is a small chance for those words to later appear in the cluster, we instead assign a small positive variance (~1e-10). Doing so also prevents numerical overflow.\n",
    " \n",
    "We provide the complete implementation for you in the file `em_utilities.py`. For those who are interested, you can read through the code to see how the sparse matrix implementation differs from the previous assignment. \n",
    "\n",
    "You are expected to answer some quiz questions using the results of clustering."
   ]
  },
  {
   "cell_type": "markdown",
   "metadata": {},
   "source": [
    "**Initializing mean parameters using k-means**\n",
    "\n",
    "Recall from the lectures that EM for Gaussian mixtures is very sensitive to the choice of initial means. With a bad initial set of means, EM may produce clusters that span a large area and are mostly overlapping. To eliminate such bad outcomes, we first produce a suitable set of initial means by using the cluster centers from running k-means.  That is, we first run k-means and then take the final set of means from the converged solution as the initial means in our EM algorithm."
   ]
  },
  {
   "cell_type": "code",
   "execution_count": 9,
   "metadata": {
    "collapsed": false
   },
   "outputs": [],
   "source": [
    "from sklearn.cluster import KMeans\n",
    "\n",
    "np.random.seed(5)\n",
    "num_clusters = 25\n",
    "\n",
    "# Use scikit-learn's k-means to simplify workflow\n",
    "#kmeans_model = KMeans(n_clusters=num_clusters, n_init=5, max_iter=400, random_state=1, n_jobs=-1) # uncomment to use parallelism -- may break on your installation\n",
    "kmeans_model = KMeans(n_clusters=num_clusters, n_init=5, max_iter=400, random_state=1, n_jobs=1)\n",
    "kmeans_model.fit(tf_idf)\n",
    "centroids, cluster_assignment = kmeans_model.cluster_centers_, kmeans_model.labels_\n",
    "\n",
    "means = [centroid for centroid in centroids]"
   ]
  },
  {
   "cell_type": "code",
   "execution_count": 10,
   "metadata": {
    "collapsed": false
   },
   "outputs": [
    {
     "data": {
      "text/plain": [
       "5000"
      ]
     },
     "execution_count": 10,
     "metadata": {},
     "output_type": "execute_result"
    }
   ],
   "source": [
    "len(cluster_assignment)"
   ]
  },
  {
   "cell_type": "code",
   "execution_count": 11,
   "metadata": {
    "collapsed": false
   },
   "outputs": [
    {
     "data": {
      "text/plain": [
       "4732"
      ]
     },
     "execution_count": 11,
     "metadata": {},
     "output_type": "execute_result"
    }
   ],
   "source": [
    "np.bincount(cluster_assignment == 2)[0]"
   ]
  },
  {
   "cell_type": "markdown",
   "metadata": {},
   "source": [
    "**Initializing cluster weights**\n",
    "\n",
    "We will initialize each cluster weight to be the proportion of documents assigned to that cluster by k-means above."
   ]
  },
  {
   "cell_type": "code",
   "execution_count": 12,
   "metadata": {
    "collapsed": false
   },
   "outputs": [],
   "source": [
    "num_docs = tf_idf.shape[0]\n",
    "weights = []\n",
    "for i in xrange(num_clusters):\n",
    "    # Compute the number of data points assigned to cluster i:\n",
    "    num_assigned = (cluster_assignment == i).sum() # YOUR CODE HERE\n",
    "    w = float(num_assigned) / num_docs\n",
    "    weights.append(w)"
   ]
  },
  {
   "cell_type": "code",
   "execution_count": 13,
   "metadata": {
    "collapsed": false
   },
   "outputs": [
    {
     "data": {
      "text/plain": [
       "[0.009,\n",
       " 0.081,\n",
       " 0.0536,\n",
       " 0.0336,\n",
       " 0.036,\n",
       " 0.014,\n",
       " 0.0412,\n",
       " 0.0256,\n",
       " 0.0104,\n",
       " 0.066,\n",
       " 0.0282,\n",
       " 0.0912,\n",
       " 0.0264,\n",
       " 0.0256,\n",
       " 0.035,\n",
       " 0.0214,\n",
       " 0.0142,\n",
       " 0.1218,\n",
       " 0.0308,\n",
       " 0.0178,\n",
       " 0.0272,\n",
       " 0.038,\n",
       " 0.0412,\n",
       " 0.0392,\n",
       " 0.0716]"
      ]
     },
     "execution_count": 13,
     "metadata": {},
     "output_type": "execute_result"
    }
   ],
   "source": [
    "weights"
   ]
  },
  {
   "cell_type": "markdown",
   "metadata": {},
   "source": [
    "**Initializing covariances**\n",
    "\n",
    "To initialize our covariance parameters, we compute $\\hat{\\sigma}_{k, j}^2 = \\sum_{i=1}^{N}(x_{i,j} - \\hat{\\mu}_{k, j})^2$ for each feature $j$.  For features with really tiny variances, we assign 1e-8 instead to prevent numerical instability. We do this computation in a vectorized fashion in the following code block."
   ]
  },
  {
   "cell_type": "code",
   "execution_count": 14,
   "metadata": {
    "collapsed": false
   },
   "outputs": [],
   "source": [
    "covs = []\n",
    "for i in xrange(num_clusters):\n",
    "    member_rows = tf_idf[cluster_assignment==i]\n",
    "    cov = (member_rows.multiply(member_rows) - 2*member_rows.dot(diag(means[i]))).sum(axis=0).A1 / member_rows.shape[0] \\\n",
    "          + means[i]**2\n",
    "    cov[cov < 1e-8] = 1e-8\n",
    "    covs.append(cov)"
   ]
  },
  {
   "cell_type": "markdown",
   "metadata": {},
   "source": [
    "**Running EM**\n",
    "\n",
    "Now that we have initialized all of our parameters, run EM."
   ]
  },
  {
   "cell_type": "code",
   "execution_count": 28,
   "metadata": {
    "collapsed": false,
    "scrolled": true
   },
   "outputs": [],
   "source": [
    "out = EM_for_high_dimension(tf_idf, means, covs, weights, cov_smoothing=1e-10)"
   ]
  },
  {
   "cell_type": "code",
   "execution_count": 29,
   "metadata": {
    "collapsed": false
   },
   "outputs": [
    {
     "data": {
      "text/plain": [
       "[3879297479.366981, 4883345753.5331306, 4883345753.5331306]"
      ]
     },
     "execution_count": 29,
     "metadata": {},
     "output_type": "execute_result"
    }
   ],
   "source": [
    "out['loglik']"
   ]
  },
  {
   "cell_type": "markdown",
   "metadata": {},
   "source": [
    "## Interpret clustering results"
   ]
  },
  {
   "cell_type": "markdown",
   "metadata": {},
   "source": [
    "In contrast to k-means, EM is able to explicitly model clusters of varying sizes and proportions. The relative magnitude of variances in the word dimensions tell us much about the nature of the clusters.\n",
    "\n",
    "Write yourself a cluster visualizer as follows.  Examining each cluster's mean vector, list the 5 words with the largest mean values (5 most common words in the cluster). For each word, also include the associated variance parameter (diagonal element of the covariance matrix). \n",
    "\n",
    "A sample output may be:\n",
    "```\n",
    "==========================================================\n",
    "Cluster 0: Largest mean parameters in cluster \n",
    "\n",
    "Word        Mean        Variance    \n",
    "football    1.08e-01    8.64e-03\n",
    "season      5.80e-02    2.93e-03\n",
    "club        4.48e-02    1.99e-03\n",
    "league      3.94e-02    1.08e-03\n",
    "played      3.83e-02    8.45e-04\n",
    "...\n",
    "```"
   ]
  },
  {
   "cell_type": "code",
   "execution_count": 17,
   "metadata": {
    "collapsed": true
   },
   "outputs": [],
   "source": [
    "# Fill in the blanks\n",
    "def visualize_EM_clusters(tf_idf, means, covs, map_index_to_word):\n",
    "    print('')\n",
    "    print('==========================================================')\n",
    "\n",
    "    num_clusters = len(means)\n",
    "    for c in xrange(num_clusters):\n",
    "        print('Cluster {0:d}: Largest mean parameters in cluster '.format(c))\n",
    "        print('\\n{0: <12}{1: <12}{2: <12}'.format('Word', 'Mean', 'Variance'))\n",
    "        \n",
    "        # The k'th element of sorted_word_ids should be the index of the word \n",
    "        # that has the k'th-largest value in the cluster mean. Hint: Use np.argsort().\n",
    "        sorted_word_ids = np.argsort(means[c][::-1])  # YOUR CODE HERE\n",
    "\n",
    "        for i in sorted_word_ids[:5]:\n",
    "            print '{0: <12}{1:<10.2e}{2:10.2e}'.format(map_index_to_word['category'][i], \n",
    "                                                       means[c][i],\n",
    "                                                       covs[c][i])\n",
    "        print '\\n=========================================================='"
   ]
  },
  {
   "cell_type": "code",
   "execution_count": 18,
   "metadata": {
    "collapsed": false
   },
   "outputs": [
    {
     "name": "stdout",
     "output_type": "stream",
     "text": [
      "\n",
      "==========================================================\n",
      "Cluster 0: Largest mean parameters in cluster \n",
      "\n",
      "Word        Mean        Variance    \n",
      "hodder      0.00e+00    1.00e-10\n",
      "pabst       0.00e+00    1.00e-10\n",
      "ventanni    0.00e+00    1.00e-10\n",
      "harrowston  0.00e+00    1.00e-10\n",
      "namerich    0.00e+00    1.00e-10\n",
      "\n",
      "==========================================================\n",
      "Cluster 1: Largest mean parameters in cluster \n",
      "\n",
      "Word        Mean        Variance    \n",
      "hodder      0.00e+00    1.00e-10\n",
      "overbrook   0.00e+00    1.00e-10\n",
      "oliviero    2.27e-04    2.09e-05\n",
      "lussier     0.00e+00    1.00e-10\n",
      "iraqisthe   0.00e+00    1.00e-10\n",
      "\n",
      "==========================================================\n",
      "Cluster 2: Largest mean parameters in cluster \n",
      "\n",
      "Word        Mean        Variance    \n",
      "hodder      0.00e+00    1.00e-10\n",
      "goleman     0.00e+00    1.00e-10\n",
      "leadershipborn0.00e+00    1.00e-10\n",
      "64conflicting0.00e+00    1.00e-10\n",
      "lamiante    0.00e+00    1.00e-10\n",
      "\n",
      "==========================================================\n",
      "Cluster 3: Largest mean parameters in cluster \n",
      "\n",
      "Word        Mean        Variance    \n",
      "hodder      0.00e+00    1.00e-10\n",
      "mclachlans  0.00e+00    1.00e-10\n",
      "fourround   0.00e+00    1.00e-10\n",
      "hasenough   0.00e+00    1.00e-10\n",
      "prisonaccording0.00e+00    1.00e-10\n",
      "\n",
      "==========================================================\n",
      "Cluster 4: Largest mean parameters in cluster \n",
      "\n",
      "Word        Mean        Variance    \n",
      "hodder      0.00e+00    1.00e-10\n",
      "daunting    0.00e+00    1.00e-10\n",
      "transcendentalized0.00e+00    1.00e-10\n",
      "dealsince   0.00e+00    1.00e-10\n",
      "odtu        0.00e+00    1.00e-10\n",
      "\n",
      "==========================================================\n",
      "Cluster 5: Largest mean parameters in cluster \n",
      "\n",
      "Word        Mean        Variance    \n",
      "hodder      0.00e+00    1.00e-10\n",
      "nangarhar   0.00e+00    1.00e-10\n",
      "matja       0.00e+00    1.00e-10\n",
      "leningradnussberg0.00e+00    1.00e-10\n",
      "listpowells 0.00e+00    1.00e-10\n",
      "\n",
      "==========================================================\n",
      "Cluster 6: Largest mean parameters in cluster \n",
      "\n",
      "Word        Mean        Variance    \n",
      "hodder      0.00e+00    1.00e-10\n",
      "05222358230 0.00e+00    1.00e-10\n",
      "melts       0.00e+00    1.00e-10\n",
      "bantus      0.00e+00    1.00e-10\n",
      "mendigucha  0.00e+00    1.00e-10\n",
      "\n",
      "==========================================================\n",
      "Cluster 7: Largest mean parameters in cluster \n",
      "\n",
      "Word        Mean        Variance    \n",
      "hodder      0.00e+00    1.00e-10\n",
      "sbbf        0.00e+00    1.00e-10\n",
      "shuvais     0.00e+00    1.00e-10\n",
      "sccff       0.00e+00    1.00e-10\n",
      "krets       0.00e+00    1.00e-10\n",
      "\n",
      "==========================================================\n",
      "Cluster 8: Largest mean parameters in cluster \n",
      "\n",
      "Word        Mean        Variance    \n",
      "the         7.45e-05    6.78e-10\n",
      "leero       0.00e+00    1.00e-10\n",
      "walewanderwalewanders0.00e+00    1.00e-10\n",
      "stencils    0.00e+00    1.00e-10\n",
      "boundthroughout0.00e+00    1.00e-10\n",
      "\n",
      "==========================================================\n",
      "Cluster 9: Largest mean parameters in cluster \n",
      "\n",
      "Word        Mean        Variance    \n",
      "hodder      3.90e-04    5.00e-05\n",
      "essie       0.00e+00    1.00e-10\n",
      "clubcapatch 0.00e+00    1.00e-10\n",
      "familygk    0.00e+00    1.00e-10\n",
      "rubrical    0.00e+00    1.00e-10\n",
      "\n",
      "==========================================================\n",
      "Cluster 10: Largest mean parameters in cluster \n",
      "\n",
      "Word        Mean        Variance    \n",
      "hodder      0.00e+00    1.00e-10\n",
      "nonmuslim   0.00e+00    1.00e-10\n",
      "instil      0.00e+00    1.00e-10\n",
      "heyerdahls  0.00e+00    1.00e-10\n",
      "motocrossmetal0.00e+00    1.00e-10\n",
      "\n",
      "==========================================================\n",
      "Cluster 11: Largest mean parameters in cluster \n",
      "\n",
      "Word        Mean        Variance    \n",
      "hodder      0.00e+00    1.00e-10\n",
      "foetus      0.00e+00    1.00e-10\n",
      "sinclaire   0.00e+00    1.00e-10\n",
      "pla         0.00e+00    1.00e-10\n",
      "takahira    0.00e+00    1.00e-10\n",
      "\n",
      "==========================================================\n",
      "Cluster 12: Largest mean parameters in cluster \n",
      "\n",
      "Word        Mean        Variance    \n",
      "hodder      0.00e+00    1.00e-10\n",
      "slag        0.00e+00    1.00e-10\n",
      "ragheb      0.00e+00    1.00e-10\n",
      "enfortuna   0.00e+00    1.00e-10\n",
      "collegedr   0.00e+00    1.00e-10\n",
      "\n",
      "==========================================================\n",
      "Cluster 13: Largest mean parameters in cluster \n",
      "\n",
      "Word        Mean        Variance    \n",
      "hodder      0.00e+00    1.00e-10\n",
      "satyrical   0.00e+00    1.00e-10\n",
      "davisformerly0.00e+00    1.00e-10\n",
      "1311        0.00e+00    1.00e-10\n",
      "bullion     0.00e+00    1.00e-10\n",
      "\n",
      "==========================================================\n",
      "Cluster 14: Largest mean parameters in cluster \n",
      "\n",
      "Word        Mean        Variance    \n",
      "hodder      0.00e+00    1.00e-10\n",
      "bandomania  0.00e+00    1.00e-10\n",
      "978         0.00e+00    1.00e-10\n",
      "vorobieffphillips0.00e+00    1.00e-10\n",
      "attrice     0.00e+00    1.00e-10\n",
      "\n",
      "==========================================================\n",
      "Cluster 15: Largest mean parameters in cluster \n",
      "\n",
      "Word        Mean        Variance    \n",
      "hodder      0.00e+00    1.00e-10\n",
      "stavstrand  0.00e+00    1.00e-10\n",
      "recognisedhe0.00e+00    1.00e-10\n",
      "cahe        0.00e+00    1.00e-10\n",
      "haverhill   0.00e+00    1.00e-10\n",
      "\n",
      "==========================================================\n",
      "Cluster 16: Largest mean parameters in cluster \n",
      "\n",
      "Word        Mean        Variance    \n",
      "hodder      0.00e+00    1.00e-10\n",
      "overallcachia0.00e+00    1.00e-10\n",
      "chasin      0.00e+00    1.00e-10\n",
      "molitva     0.00e+00    1.00e-10\n",
      "gaumont     0.00e+00    1.00e-10\n",
      "\n",
      "==========================================================\n",
      "Cluster 17: Largest mean parameters in cluster \n",
      "\n",
      "Word        Mean        Variance    \n",
      "hodder      0.00e+00    1.00e-10\n",
      "gnome       0.00e+00    1.00e-10\n",
      "galilean    0.00e+00    1.00e-10\n",
      "abnormal    0.00e+00    1.00e-10\n",
      "izakaya     0.00e+00    1.00e-10\n",
      "\n",
      "==========================================================\n",
      "Cluster 18: Largest mean parameters in cluster \n",
      "\n",
      "Word        Mean        Variance    \n",
      "hodder      0.00e+00    1.00e-10\n",
      "myungbak    0.00e+00    1.00e-10\n",
      "0809        4.96e-04    3.77e-05\n",
      "usallamosa  0.00e+00    1.00e-10\n",
      "enmeshed    0.00e+00    1.00e-10\n",
      "\n",
      "==========================================================\n",
      "Cluster 19: Largest mean parameters in cluster \n",
      "\n",
      "Word        Mean        Variance    \n",
      "hodder      0.00e+00    1.00e-10\n",
      "gdaskorunia 0.00e+00    1.00e-10\n",
      "theorization0.00e+00    1.00e-10\n",
      "englandbased0.00e+00    1.00e-10\n",
      "pottedcactus0.00e+00    1.00e-10\n",
      "\n",
      "==========================================================\n",
      "Cluster 20: Largest mean parameters in cluster \n",
      "\n",
      "Word        Mean        Variance    \n",
      "hodder      0.00e+00    1.00e-10\n",
      "lith        0.00e+00    1.00e-10\n",
      "orators     0.00e+00    1.00e-10\n",
      "mclachlans  0.00e+00    1.00e-10\n",
      "fourround   0.00e+00    1.00e-10\n",
      "\n",
      "==========================================================\n",
      "Cluster 21: Largest mean parameters in cluster \n",
      "\n",
      "Word        Mean        Variance    \n",
      "hodder      0.00e+00    1.00e-10\n",
      "safehouses  0.00e+00    1.00e-10\n",
      "corleone    0.00e+00    1.00e-10\n",
      "arenaa      0.00e+00    1.00e-10\n",
      "ananya      0.00e+00    1.00e-10\n",
      "\n",
      "==========================================================\n",
      "Cluster 22: Largest mean parameters in cluster \n",
      "\n",
      "Word        Mean        Variance    \n",
      "hodder      0.00e+00    1.00e-10\n",
      "soloveitchik0.00e+00    1.00e-10\n",
      "informatique0.00e+00    1.00e-10\n",
      "magellan    0.00e+00    1.00e-10\n",
      "pno         0.00e+00    1.00e-10\n",
      "\n",
      "==========================================================\n",
      "Cluster 23: Largest mean parameters in cluster \n",
      "\n",
      "Word        Mean        Variance    \n",
      "hodder      0.00e+00    1.00e-10\n",
      "u15         0.00e+00    1.00e-10\n",
      "siquieros   0.00e+00    1.00e-10\n",
      "iltasanomat 0.00e+00    1.00e-10\n",
      "drowsy      0.00e+00    1.00e-10\n",
      "\n",
      "==========================================================\n",
      "Cluster 24: Largest mean parameters in cluster \n",
      "\n",
      "Word        Mean        Variance    \n",
      "hodder      0.00e+00    1.00e-10\n",
      "libido      2.51e-04    2.25e-05\n",
      "drobena     0.00e+00    1.00e-10\n",
      "micronesia  0.00e+00    1.00e-10\n",
      "concertgoers2.57e-04    2.36e-05\n",
      "\n",
      "==========================================================\n"
     ]
    }
   ],
   "source": [
    "'''By EM'''\n",
    "visualize_EM_clusters(tf_idf, out['means'], out['covs'], map_index_to_word)"
   ]
  },
  {
   "cell_type": "markdown",
   "metadata": {},
   "source": [
    "**Quiz Question**. Select all the topics that have a cluster in the model created above. [multiple choice]"
   ]
  },
  {
   "cell_type": "markdown",
   "metadata": {},
   "source": [
    "## Comparing to random initialization"
   ]
  },
  {
   "cell_type": "markdown",
   "metadata": {
    "collapsed": false
   },
   "source": [
    "Create variables for randomly initializing the EM algorithm. Complete the following code block."
   ]
  },
  {
   "cell_type": "code",
   "execution_count": 19,
   "metadata": {
    "collapsed": true
   },
   "outputs": [],
   "source": [
    "np.random.seed(5) # See the note below to see why we set seed=5.\n",
    "num_clusters = len(means)\n",
    "num_docs, num_words = tf_idf.shape\n",
    "\n",
    "random_means = []\n",
    "random_covs = []\n",
    "random_weights = []\n",
    "\n",
    "for k in range(num_clusters):\n",
    "    \n",
    "    # Create a numpy array of length num_words with random normally distributed values.\n",
    "    # Use the standard univariate normal distribution (mean 0, variance 1).\n",
    "    # YOUR CODE HERE\n",
    "    mean =  np.random.normal(0, 1, num_words)\n",
    "    \n",
    "    # Create a numpy array of length num_words with random values uniformly distributed between 1 and 5.\n",
    "    # YOUR CODE HERE\n",
    "    cov =  np.random.normal(1, 5, num_words)\n",
    "\n",
    "    # Initially give each cluster equal weight.\n",
    "    # YOUR CODE HERE\n",
    "    weight = 1.0/num_clusters\n",
    "    \n",
    "    random_means.append(mean)\n",
    "    random_covs.append(cov)\n",
    "    random_weights.append(weight)"
   ]
  },
  {
   "cell_type": "markdown",
   "metadata": {},
   "source": [
    "**Quiz Question**: Try fitting EM with the random initial parameters you created above. (Use `cov_smoothing=1e-5`.) Store the result to `out_random_init`. What is the final loglikelihood that the algorithm converges to? "
   ]
  },
  {
   "cell_type": "code",
   "execution_count": 32,
   "metadata": {
    "collapsed": true
   },
   "outputs": [],
   "source": [
    "out_random_init = EM_for_high_dimension(tf_idf, means, covs, weights, cov_smoothing=1e-5)"
   ]
  },
  {
   "cell_type": "markdown",
   "metadata": {},
   "source": [
    "**Quiz Question:** Is the final loglikelihood larger or smaller than the final loglikelihood we obtained above when initializing EM with the results from running k-means?"
   ]
  },
  {
   "cell_type": "code",
   "execution_count": 33,
   "metadata": {
    "collapsed": false
   },
   "outputs": [
    {
     "data": {
      "text/plain": [
       "[3879297479.366981, 2364860294.3649483]"
      ]
     },
     "execution_count": 33,
     "metadata": {},
     "output_type": "execute_result"
    }
   ],
   "source": [
    "out_random_init['loglik']"
   ]
  },
  {
   "cell_type": "markdown",
   "metadata": {},
   "source": [
    "**Quiz Question**: For the above model, `out_random_init`, use the `visualize_EM_clusters` method you created above. Are the clusters more or less interpretable than the ones found after initializing using k-means?"
   ]
  },
  {
   "cell_type": "code",
   "execution_count": 34,
   "metadata": {
    "collapsed": false
   },
   "outputs": [
    {
     "name": "stdout",
     "output_type": "stream",
     "text": [
      "\n",
      "==========================================================\n",
      "Cluster 0: Largest mean parameters in cluster \n",
      "\n",
      "Word        Mean        Variance    \n",
      "hodder      0.00e+00    1.00e-05\n",
      "stautner    0.00e+00    1.00e-05\n",
      "warmups     0.00e+00    1.00e-05\n",
      "acmeists    2.21e-03    2.34e-04\n",
      "clemency    0.00e+00    1.00e-05\n",
      "\n",
      "==========================================================\n",
      "Cluster 1: Largest mean parameters in cluster \n",
      "\n",
      "Word        Mean        Variance    \n",
      "hodder      0.00e+00    1.00e-05\n",
      "shevchuk    0.00e+00    1.00e-05\n",
      "golferlam   0.00e+00    1.00e-05\n",
      "iguazu      0.00e+00    1.00e-05\n",
      "1777        0.00e+00    1.00e-05\n",
      "\n",
      "==========================================================\n",
      "Cluster 2: Largest mean parameters in cluster \n",
      "\n",
      "Word        Mean        Variance    \n",
      "hodder      0.00e+00    1.00e-05\n",
      "leadershipborn0.00e+00    1.00e-05\n",
      "64conflicting0.00e+00    1.00e-05\n",
      "lamiante    0.00e+00    1.00e-05\n",
      "castaeda    0.00e+00    1.00e-05\n",
      "\n",
      "==========================================================\n",
      "Cluster 3: Largest mean parameters in cluster \n",
      "\n",
      "Word        Mean        Variance    \n",
      "hodder      0.00e+00    1.00e-05\n",
      "lundon      0.00e+00    1.00e-05\n",
      "1039        0.00e+00    1.00e-05\n",
      "michna      0.00e+00    1.00e-05\n",
      "daigoro     0.00e+00    1.00e-05\n",
      "\n",
      "==========================================================\n",
      "Cluster 4: Largest mean parameters in cluster \n",
      "\n",
      "Word        Mean        Variance    \n",
      "hodder      0.00e+00    1.00e-05\n",
      "daunting    0.00e+00    1.00e-05\n",
      "transcendentalized0.00e+00    1.00e-05\n",
      "dealsince   0.00e+00    1.00e-05\n",
      "odtu        0.00e+00    1.00e-05\n",
      "\n",
      "==========================================================\n",
      "Cluster 5: Largest mean parameters in cluster \n",
      "\n",
      "Word        Mean        Variance    \n",
      "hodder      0.00e+00    1.00e-05\n",
      "marimekko   0.00e+00    1.00e-05\n",
      "wrights     0.00e+00    1.00e-05\n",
      "sna         0.00e+00    1.00e-05\n",
      "ausin       0.00e+00    1.00e-05\n",
      "\n",
      "==========================================================\n",
      "Cluster 6: Largest mean parameters in cluster \n",
      "\n",
      "Word        Mean        Variance    \n",
      "hodder      0.00e+00    1.00e-05\n",
      "sixweek     0.00e+00    1.00e-05\n",
      "molester    0.00e+00    1.00e-05\n",
      "bachchan    0.00e+00    1.00e-05\n",
      "ihan        0.00e+00    1.00e-05\n",
      "\n",
      "==========================================================\n",
      "Cluster 7: Largest mean parameters in cluster \n",
      "\n",
      "Word        Mean        Variance    \n",
      "hodder      0.00e+00    1.00e-05\n",
      "krets       0.00e+00    1.00e-05\n",
      "devicebefore0.00e+00    1.00e-05\n",
      "u15         0.00e+00    1.00e-05\n",
      "siquieros   0.00e+00    1.00e-05\n",
      "\n",
      "==========================================================\n",
      "Cluster 8: Largest mean parameters in cluster \n",
      "\n",
      "Word        Mean        Variance    \n",
      "the         7.50e-05    1.00e-05\n",
      "astrodynamics0.00e+00    1.00e-05\n",
      "interferometry0.00e+00    1.00e-05\n",
      "kolonicsin  0.00e+00    1.00e-05\n",
      "birache     0.00e+00    1.00e-05\n",
      "\n",
      "==========================================================\n",
      "Cluster 9: Largest mean parameters in cluster \n",
      "\n",
      "Word        Mean        Variance    \n",
      "hodder      3.92e-04    6.03e-05\n",
      "essie       0.00e+00    1.00e-05\n",
      "clubcapatch 0.00e+00    1.00e-05\n",
      "familygk    0.00e+00    1.00e-05\n",
      "rubrical    0.00e+00    1.00e-05\n",
      "\n",
      "==========================================================\n",
      "Cluster 10: Largest mean parameters in cluster \n",
      "\n",
      "Word        Mean        Variance    \n",
      "hodder      0.00e+00    1.00e-05\n",
      "servicesgorog0.00e+00    1.00e-05\n",
      "mestres     0.00e+00    1.00e-05\n",
      "nigerien    0.00e+00    1.00e-05\n",
      "poczet      0.00e+00    1.00e-05\n",
      "\n",
      "==========================================================\n",
      "Cluster 11: Largest mean parameters in cluster \n",
      "\n",
      "Word        Mean        Variance    \n",
      "hodder      0.00e+00    1.00e-05\n",
      "pla         0.00e+00    1.00e-05\n",
      "takahira    0.00e+00    1.00e-05\n",
      "anews       0.00e+00    1.00e-05\n",
      "windsurf    0.00e+00    1.00e-05\n",
      "\n",
      "==========================================================\n",
      "Cluster 12: Largest mean parameters in cluster \n",
      "\n",
      "Word        Mean        Variance    \n",
      "hodder      0.00e+00    1.00e-05\n",
      "swirls      0.00e+00    1.00e-05\n",
      "fullscale   0.00e+00    1.00e-05\n",
      "minersof    0.00e+00    1.00e-05\n",
      "gleave      0.00e+00    1.00e-05\n",
      "\n",
      "==========================================================\n",
      "Cluster 13: Largest mean parameters in cluster \n",
      "\n",
      "Word        Mean        Variance    \n",
      "hodder      0.00e+00    1.00e-05\n",
      "broomfield  0.00e+00    1.00e-05\n",
      "populaire   0.00e+00    1.00e-05\n",
      "alisyn      0.00e+00    1.00e-05\n",
      "piscopale   0.00e+00    1.00e-05\n",
      "\n",
      "==========================================================\n",
      "Cluster 14: Largest mean parameters in cluster \n",
      "\n",
      "Word        Mean        Variance    \n",
      "hodder      0.00e+00    1.00e-05\n",
      "196365      0.00e+00    1.00e-05\n",
      "idasa       0.00e+00    1.00e-05\n",
      "playermattisson0.00e+00    1.00e-05\n",
      "thrashed    0.00e+00    1.00e-05\n",
      "\n",
      "==========================================================\n",
      "Cluster 15: Largest mean parameters in cluster \n",
      "\n",
      "Word        Mean        Variance    \n",
      "hodder      0.00e+00    1.00e-05\n",
      "minihan     0.00e+00    1.00e-05\n",
      "hasson      0.00e+00    1.00e-05\n",
      "truthmv     0.00e+00    1.00e-05\n",
      "satyrical   0.00e+00    1.00e-05\n",
      "\n",
      "==========================================================\n",
      "Cluster 16: Largest mean parameters in cluster \n",
      "\n",
      "Word        Mean        Variance    \n",
      "hodder      0.00e+00    1.00e-05\n",
      "2008barrett 0.00e+00    1.00e-05\n",
      "duvz        0.00e+00    1.00e-05\n",
      "stavstrand  0.00e+00    1.00e-05\n",
      "recognisedhe0.00e+00    1.00e-05\n",
      "\n",
      "==========================================================\n",
      "Cluster 17: Largest mean parameters in cluster \n",
      "\n",
      "Word        Mean        Variance    \n",
      "hodder      0.00e+00    1.00e-05\n",
      "phoebe      0.00e+00    1.00e-05\n",
      "californiaat0.00e+00    1.00e-05\n",
      "honouring   1.55e-04    2.34e-05\n",
      "halvorsen   0.00e+00    1.00e-05\n",
      "\n",
      "==========================================================\n",
      "Cluster 18: Largest mean parameters in cluster \n",
      "\n",
      "Word        Mean        Variance    \n",
      "hodder      0.00e+00    1.00e-05\n",
      "runabbate   0.00e+00    1.00e-05\n",
      "turfwith    0.00e+00    1.00e-05\n",
      "etterbeek   0.00e+00    1.00e-05\n",
      "estradas    0.00e+00    1.00e-05\n",
      "\n",
      "==========================================================\n",
      "Cluster 19: Largest mean parameters in cluster \n",
      "\n",
      "Word        Mean        Variance    \n",
      "hodder      0.00e+00    1.00e-05\n",
      "harrowston  0.00e+00    1.00e-05\n",
      "namerich    0.00e+00    1.00e-05\n",
      "minihan     0.00e+00    1.00e-05\n",
      "hasson      0.00e+00    1.00e-05\n",
      "\n",
      "==========================================================\n",
      "Cluster 20: Largest mean parameters in cluster \n",
      "\n",
      "Word        Mean        Variance    \n",
      "hodder      0.00e+00    1.00e-05\n",
      "etvand      0.00e+00    1.00e-05\n",
      "1996rojas   0.00e+00    1.00e-05\n",
      "trantow     0.00e+00    1.00e-05\n",
      "publicationsa0.00e+00    1.00e-05\n",
      "\n",
      "==========================================================\n",
      "Cluster 21: Largest mean parameters in cluster \n",
      "\n",
      "Word        Mean        Variance    \n",
      "hodder      0.00e+00    1.00e-05\n",
      "redrum      0.00e+00    1.00e-05\n",
      "bagenstos   0.00e+00    1.00e-05\n",
      "meethi      0.00e+00    1.00e-05\n",
      "morphology  0.00e+00    1.00e-05\n",
      "\n",
      "==========================================================\n",
      "Cluster 22: Largest mean parameters in cluster \n",
      "\n",
      "Word        Mean        Variance    \n",
      "hodder      0.00e+00    1.00e-05\n",
      "tikhonovs   0.00e+00    1.00e-05\n",
      "vit         0.00e+00    1.00e-05\n",
      "2003sandy   0.00e+00    1.00e-05\n",
      "korneev     0.00e+00    1.00e-05\n",
      "\n",
      "==========================================================\n",
      "Cluster 23: Largest mean parameters in cluster \n",
      "\n",
      "Word        Mean        Variance    \n",
      "hodder      0.00e+00    1.00e-05\n",
      "interlink   0.00e+00    1.00e-05\n",
      "iraqbefore  0.00e+00    1.00e-05\n",
      "deteriorateby0.00e+00    1.00e-05\n",
      "honorific   0.00e+00    1.00e-05\n",
      "\n",
      "==========================================================\n",
      "Cluster 24: Largest mean parameters in cluster \n",
      "\n",
      "Word        Mean        Variance    \n",
      "hodder      0.00e+00    1.00e-05\n",
      "agencyalthough0.00e+00    1.00e-05\n",
      "petkovsek   0.00e+00    1.00e-05\n",
      "photoshoot  0.00e+00    1.00e-05\n",
      "34302       0.00e+00    1.00e-05\n",
      "\n",
      "==========================================================\n"
     ]
    }
   ],
   "source": [
    "# YOUR CODE HERE. Use visualize_EM_clusters, which will require you to pass in tf_idf and map_index_to_word.\n",
    "'''By EM'''\n",
    "visualize_EM_clusters(tf_idf, out_random_init['means'], out_random_init['covs'], map_index_to_word)"
   ]
  },
  {
   "cell_type": "markdown",
   "metadata": {
    "collapsed": true
   },
   "source": [
    "**Note**: Random initialization may sometimes produce a superior fit than k-means initialization. We do not claim that random initialization is always worse. However, this section does illustrate that random initialization often produces much worse clustering than k-means counterpart. This is the reason why we provide the particular random seed (`np.random.seed(5)`)."
   ]
  },
  {
   "cell_type": "markdown",
   "metadata": {
    "collapsed": true
   },
   "source": [
    "## Takeaway\n",
    "\n",
    "In this assignment we were able to apply the EM algorithm to a mixture of Gaussians model of text data. This was made possible by modifying the model to assume a diagonal covariance for each cluster, and by modifying the implementation to use a sparse matrix representation. In the second part you explored the role of k-means initialization on the convergence of the model as well as the interpretability of the clusters."
   ]
  },
  {
   "cell_type": "code",
   "execution_count": null,
   "metadata": {
    "collapsed": true
   },
   "outputs": [],
   "source": []
  }
 ],
 "metadata": {
  "anaconda-cloud": {},
  "kernelspec": {
   "display_name": "Python 2",
   "language": "python",
   "name": "python2"
  },
  "language_info": {
   "codemirror_mode": {
    "name": "ipython",
    "version": 2
   },
   "file_extension": ".py",
   "mimetype": "text/x-python",
   "name": "python",
   "nbconvert_exporter": "python",
   "pygments_lexer": "ipython2",
   "version": "2.7.11"
  }
 },
 "nbformat": 4,
 "nbformat_minor": 0
}
