{
 "cells": [
  {
   "cell_type": "code",
   "execution_count": 1,
   "metadata": {
    "collapsed": true
   },
   "outputs": [],
   "source": [
    "import numpy as np"
   ]
  },
  {
   "cell_type": "code",
   "execution_count": 2,
   "metadata": {
    "collapsed": false
   },
   "outputs": [
    {
     "name": "stdout",
     "output_type": "stream",
     "text": [
      "0.230765141474\n"
     ]
    }
   ],
   "source": [
    "x = np.array([2.5,0.3,2.8,0.5])\n",
    "y = np.array([1,0,1,1])\n",
    "w0 = 0\n",
    "w1 = 1\n",
    "\n",
    "def ypre(x,w0,w1):\n",
    "    score = w0 + x * w1\n",
    "    return sigmoid(score)\n",
    "\n",
    "def sigmoid(score):\n",
    "    return 1.0/(1+ (np.exp(-score)))\n",
    "\n",
    "lik = 1\n",
    "for i in range(len(x)):\n",
    "    if i == 1:\n",
    "        lik *= (1 - ypre(x[i], 0, 1))\n",
    "    else:\n",
    "        lik *= (ypre(x[i], 0, 1))\n",
    "print lik"
   ]
  },
  {
   "cell_type": "code",
   "execution_count": 3,
   "metadata": {
    "collapsed": false
   },
   "outputs": [
    {
     "name": "stdout",
     "output_type": "stream",
     "text": [
      "0.366590721926\n"
     ]
    }
   ],
   "source": [
    "def der(hx, ytrue, ypre):\n",
    "    return hx * (ytrue - ypre)\n",
    "sum = 0\n",
    "\n",
    "for i in range(len(x)):\n",
    "    sum += der(x[i],y[i],ypre(x[i],0,1))\n",
    "    \n",
    "print sum"
   ]
  },
  {
   "cell_type": "code",
   "execution_count": null,
   "metadata": {
    "collapsed": true
   },
   "outputs": [],
   "source": []
  }
 ],
 "metadata": {
  "kernelspec": {
   "display_name": "Python 2",
   "language": "python",
   "name": "python2"
  },
  "language_info": {
   "codemirror_mode": {
    "name": "ipython",
    "version": 2
   },
   "file_extension": ".py",
   "mimetype": "text/x-python",
   "name": "python",
   "nbconvert_exporter": "python",
   "pygments_lexer": "ipython2",
   "version": "2.7.11"
  }
 },
 "nbformat": 4,
 "nbformat_minor": 0
}
